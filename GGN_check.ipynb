{
  "nbformat": 4,
  "nbformat_minor": 0,
  "metadata": {
    "colab": {
      "provenance": [],
      "gpuType": "T4"
    },
    "kernelspec": {
      "name": "python3",
      "display_name": "Python 3"
    },
    "language_info": {
      "name": "python"
    },
    "accelerator": "GPU"
  },
  "cells": [
    {
      "cell_type": "markdown",
      "source": [
        "# Загрузка данных"
      ],
      "metadata": {
        "id": "uhqnanpq_30E"
      }
    },
    {
      "cell_type": "code",
      "source": [
        "!gdown 19WJRvdFZgV1hxmVl52HCKq0gieTQk_uY #flats_checks_raster.csv\n",
        "!gdown 1tbxE-SZO5R37TiBscVZ2zbTGeTAIsUYk #таргет price трейн\n",
        "!gdown 1ZI-JsZ-6QxtHJKnxj1Mggscxumodxm64 # таргет price тест"
      ],
      "metadata": {
        "colab": {
          "base_uri": "https://localhost:8080/"
        },
        "id": "BRnZVhGuRGFS",
        "outputId": "fb89ab69-5057-458f-af64-ad498d448147"
      },
      "execution_count": 1,
      "outputs": [
        {
          "output_type": "stream",
          "name": "stdout",
          "text": [
            "Downloading...\n",
            "From (original): https://drive.google.com/uc?id=19WJRvdFZgV1hxmVl52HCKq0gieTQk_uY\n",
            "From (redirected): https://drive.google.com/uc?id=19WJRvdFZgV1hxmVl52HCKq0gieTQk_uY&confirm=t&uuid=4da11b1c-5b06-4d80-9173-064b626dc548\n",
            "To: /content/flats_checks_raster.csv\n",
            "100% 1.05G/1.05G [00:05<00:00, 202MB/s]\n",
            "Downloading...\n",
            "From: https://drive.google.com/uc?id=1tbxE-SZO5R37TiBscVZ2zbTGeTAIsUYk\n",
            "To: /content/y_train_msk_merged_2.pkl\n",
            "100% 788k/788k [00:00<00:00, 24.2MB/s]\n",
            "Downloading...\n",
            "From: https://drive.google.com/uc?id=1ZI-JsZ-6QxtHJKnxj1Mggscxumodxm64\n",
            "To: /content/y_test_msk_merged_2.pkl\n",
            "100% 140k/140k [00:00<00:00, 83.6MB/s]\n"
          ]
        }
      ]
    },
    {
      "cell_type": "code",
      "source": [
        "!pip install torch_geometric\n",
        "!pip install catboost\n",
        "import pandas as pd\n",
        "import numpy as np\n",
        "from sklearn.preprocessing import StandardScaler\n",
        "from sklearn.metrics import mean_squared_error\n",
        "import torch\n",
        "import torch.nn.functional as F\n",
        "from torch_geometric.data import Data\n",
        "from torch_geometric.nn import GCNConv\n",
        "from sklearn.neighbors import kneighbors_graph\n",
        "from torch_geometric.nn import SAGEConv, BatchNorm\n",
        "from sklearn.model_selection import train_test_split"
      ],
      "metadata": {
        "colab": {
          "base_uri": "https://localhost:8080/"
        },
        "id": "SkDDoEavMf5q",
        "outputId": "f7663468-d206-41b0-a4b2-2bf6af265dfe"
      },
      "execution_count": 2,
      "outputs": [
        {
          "output_type": "stream",
          "name": "stdout",
          "text": [
            "Collecting torch_geometric\n",
            "  Downloading torch_geometric-2.6.1-py3-none-any.whl.metadata (63 kB)\n",
            "\u001b[?25l     \u001b[90m━━━━━━━━━━━━━━━━━━━━━━━━━━━━━━━━━━━━━━━━\u001b[0m \u001b[32m0.0/63.1 kB\u001b[0m \u001b[31m?\u001b[0m eta \u001b[36m-:--:--\u001b[0m\r\u001b[2K     \u001b[90m━━━━━━━━━━━━━━━━━━━━━━━━━━━━━━━━━━━━━━━━\u001b[0m \u001b[32m63.1/63.1 kB\u001b[0m \u001b[31m4.0 MB/s\u001b[0m eta \u001b[36m0:00:00\u001b[0m\n",
            "\u001b[?25hRequirement already satisfied: aiohttp in /usr/local/lib/python3.11/dist-packages (from torch_geometric) (3.11.15)\n",
            "Requirement already satisfied: fsspec in /usr/local/lib/python3.11/dist-packages (from torch_geometric) (2025.3.2)\n",
            "Requirement already satisfied: jinja2 in /usr/local/lib/python3.11/dist-packages (from torch_geometric) (3.1.6)\n",
            "Requirement already satisfied: numpy in /usr/local/lib/python3.11/dist-packages (from torch_geometric) (2.0.2)\n",
            "Requirement already satisfied: psutil>=5.8.0 in /usr/local/lib/python3.11/dist-packages (from torch_geometric) (5.9.5)\n",
            "Requirement already satisfied: pyparsing in /usr/local/lib/python3.11/dist-packages (from torch_geometric) (3.2.3)\n",
            "Requirement already satisfied: requests in /usr/local/lib/python3.11/dist-packages (from torch_geometric) (2.32.3)\n",
            "Requirement already satisfied: tqdm in /usr/local/lib/python3.11/dist-packages (from torch_geometric) (4.67.1)\n",
            "Requirement already satisfied: aiohappyeyeballs>=2.3.0 in /usr/local/lib/python3.11/dist-packages (from aiohttp->torch_geometric) (2.6.1)\n",
            "Requirement already satisfied: aiosignal>=1.1.2 in /usr/local/lib/python3.11/dist-packages (from aiohttp->torch_geometric) (1.3.2)\n",
            "Requirement already satisfied: attrs>=17.3.0 in /usr/local/lib/python3.11/dist-packages (from aiohttp->torch_geometric) (25.3.0)\n",
            "Requirement already satisfied: frozenlist>=1.1.1 in /usr/local/lib/python3.11/dist-packages (from aiohttp->torch_geometric) (1.7.0)\n",
            "Requirement already satisfied: multidict<7.0,>=4.5 in /usr/local/lib/python3.11/dist-packages (from aiohttp->torch_geometric) (6.5.0)\n",
            "Requirement already satisfied: propcache>=0.2.0 in /usr/local/lib/python3.11/dist-packages (from aiohttp->torch_geometric) (0.3.2)\n",
            "Requirement already satisfied: yarl<2.0,>=1.17.0 in /usr/local/lib/python3.11/dist-packages (from aiohttp->torch_geometric) (1.20.1)\n",
            "Requirement already satisfied: MarkupSafe>=2.0 in /usr/local/lib/python3.11/dist-packages (from jinja2->torch_geometric) (3.0.2)\n",
            "Requirement already satisfied: charset-normalizer<4,>=2 in /usr/local/lib/python3.11/dist-packages (from requests->torch_geometric) (3.4.2)\n",
            "Requirement already satisfied: idna<4,>=2.5 in /usr/local/lib/python3.11/dist-packages (from requests->torch_geometric) (3.10)\n",
            "Requirement already satisfied: urllib3<3,>=1.21.1 in /usr/local/lib/python3.11/dist-packages (from requests->torch_geometric) (2.4.0)\n",
            "Requirement already satisfied: certifi>=2017.4.17 in /usr/local/lib/python3.11/dist-packages (from requests->torch_geometric) (2025.6.15)\n",
            "Downloading torch_geometric-2.6.1-py3-none-any.whl (1.1 MB)\n",
            "\u001b[2K   \u001b[90m━━━━━━━━━━━━━━━━━━━━━━━━━━━━━━━━━━━━━━━━\u001b[0m \u001b[32m1.1/1.1 MB\u001b[0m \u001b[31m29.2 MB/s\u001b[0m eta \u001b[36m0:00:00\u001b[0m\n",
            "\u001b[?25hInstalling collected packages: torch_geometric\n",
            "Successfully installed torch_geometric-2.6.1\n",
            "Collecting catboost\n",
            "  Downloading catboost-1.2.8-cp311-cp311-manylinux2014_x86_64.whl.metadata (1.2 kB)\n",
            "Requirement already satisfied: graphviz in /usr/local/lib/python3.11/dist-packages (from catboost) (0.21)\n",
            "Requirement already satisfied: matplotlib in /usr/local/lib/python3.11/dist-packages (from catboost) (3.10.0)\n",
            "Requirement already satisfied: numpy<3.0,>=1.16.0 in /usr/local/lib/python3.11/dist-packages (from catboost) (2.0.2)\n",
            "Requirement already satisfied: pandas>=0.24 in /usr/local/lib/python3.11/dist-packages (from catboost) (2.2.2)\n",
            "Requirement already satisfied: scipy in /usr/local/lib/python3.11/dist-packages (from catboost) (1.15.3)\n",
            "Requirement already satisfied: plotly in /usr/local/lib/python3.11/dist-packages (from catboost) (5.24.1)\n",
            "Requirement already satisfied: six in /usr/local/lib/python3.11/dist-packages (from catboost) (1.17.0)\n",
            "Requirement already satisfied: python-dateutil>=2.8.2 in /usr/local/lib/python3.11/dist-packages (from pandas>=0.24->catboost) (2.9.0.post0)\n",
            "Requirement already satisfied: pytz>=2020.1 in /usr/local/lib/python3.11/dist-packages (from pandas>=0.24->catboost) (2025.2)\n",
            "Requirement already satisfied: tzdata>=2022.7 in /usr/local/lib/python3.11/dist-packages (from pandas>=0.24->catboost) (2025.2)\n",
            "Requirement already satisfied: contourpy>=1.0.1 in /usr/local/lib/python3.11/dist-packages (from matplotlib->catboost) (1.3.2)\n",
            "Requirement already satisfied: cycler>=0.10 in /usr/local/lib/python3.11/dist-packages (from matplotlib->catboost) (0.12.1)\n",
            "Requirement already satisfied: fonttools>=4.22.0 in /usr/local/lib/python3.11/dist-packages (from matplotlib->catboost) (4.58.4)\n",
            "Requirement already satisfied: kiwisolver>=1.3.1 in /usr/local/lib/python3.11/dist-packages (from matplotlib->catboost) (1.4.8)\n",
            "Requirement already satisfied: packaging>=20.0 in /usr/local/lib/python3.11/dist-packages (from matplotlib->catboost) (24.2)\n",
            "Requirement already satisfied: pillow>=8 in /usr/local/lib/python3.11/dist-packages (from matplotlib->catboost) (11.2.1)\n",
            "Requirement already satisfied: pyparsing>=2.3.1 in /usr/local/lib/python3.11/dist-packages (from matplotlib->catboost) (3.2.3)\n",
            "Requirement already satisfied: tenacity>=6.2.0 in /usr/local/lib/python3.11/dist-packages (from plotly->catboost) (8.5.0)\n",
            "Downloading catboost-1.2.8-cp311-cp311-manylinux2014_x86_64.whl (99.2 MB)\n",
            "\u001b[2K   \u001b[90m━━━━━━━━━━━━━━━━━━━━━━━━━━━━━━━━━━━━━━━━\u001b[0m \u001b[32m99.2/99.2 MB\u001b[0m \u001b[31m8.6 MB/s\u001b[0m eta \u001b[36m0:00:00\u001b[0m\n",
            "\u001b[?25hInstalling collected packages: catboost\n",
            "Successfully installed catboost-1.2.8\n"
          ]
        }
      ]
    },
    {
      "cell_type": "markdown",
      "source": [
        "# Предобработка датасетов. Выделение датасетов из единого"
      ],
      "metadata": {
        "id": "fVB65o_l_6c0"
      }
    },
    {
      "cell_type": "code",
      "source": [
        "import pandas as pd\n",
        "# 1. Загружаем и ставим индекс. Это требуется потому, что индексы слетели из-за сокращения датасета после добавления данных ФНС\n",
        "df_mega_base = pd.read_csv('flats_checks_raster.csv', index_col='Unnamed: 0')\n",
        "\n",
        "# 1.1. Загружаем y_train и y_test. Таргеты были отдельно\n",
        "y_train = pd.read_pickle('y_train_msk_merged_2.pkl')\n",
        "y_test = pd.read_pickle('y_test_msk_merged_2.pkl')\n",
        "\n",
        "# 2. Объединяем их в один DataFrame\n",
        "y_full = pd.concat([y_train, y_test])\n",
        "\n",
        "# 3. Присоединяем таргеты к df_mega_base по индексу\n",
        "df_mega_base = df_mega_base.join(y_full, how='left')\n",
        "df_mega_base = df_mega_base.reset_index(drop=True)\n",
        "\n",
        "# 2. Удаляем все столбцы с 'emb' в названии. Удаляем эмбеддинги Славы, т.к. датасет содержал эмбеддинги tabfpn, мне они не трубуются\n",
        "df_mega_base = df_mega_base.loc[:, ~df_mega_base.columns.str.contains('emb')]\n",
        "\n",
        "# 3. Удаляем столбцы\n",
        "df_mega_base = df_mega_base.drop([\n",
        "    'TruncatedAverageBill', 'MedianBill',\n",
        "    'lat', 'lng', 'geometry', 'index_right',\n",
        "    'coordinates', 'polygon', 'district_id'\n",
        "], axis=1, errors='ignore')"
      ],
      "metadata": {
        "id": "ab4-tq1-MrFX"
      },
      "execution_count": 25,
      "outputs": []
    },
    {
      "cell_type": "code",
      "source": [
        "# заполняем пропуски средним\n",
        "for column in df_mega_base.columns:\n",
        "    df_mega_base[column].fillna(df_mega_base[column].mean(), inplace=True)\n",
        "\n",
        "# 4. Создаём df_check из столбцов ФНС. на нем будем валидироваться\n",
        "df_check = df_mega_base[[\n",
        "    'KktCount',\n",
        "    'AverageBill',\n",
        "    'CachePayPercent',\n",
        "    'IntensityOfNumberBills',\n",
        "    'RevenueIntensity',\n",
        "    'ReceiptTotalCount',\n",
        "    'price'\n",
        "]].copy()\n",
        "\n",
        "# 5. df_flats_rasters — это оставшиеся столбцы. Получаем датасет только из квартир + POI + растры\n",
        "df_flats_rasters = df_mega_base.drop(columns=df_check.columns, errors='ignore')\n",
        "\n",
        "\n",
        "# 6. Удаляем все столбцы, содержащие 'rast' в названии\n",
        "df_flats = df_flats_rasters.loc[:, ~df_flats_rasters.columns.str.contains('rast')]\n",
        "\n",
        "# 7. Делаем датасет, в котором есть только исходные данные по квартирам (ЦИАН)\n",
        "POI = [\n",
        "    'distance_to_center',\n",
        "    'highways_count',\n",
        "    'undergrounds_count',\n",
        "    'railways_count',\n",
        "    'time_to_metro',\n",
        "    'pop_dense',\n",
        "    'pop_work_dense',\n",
        "    'pop_child_dense',\n",
        "    'avg_age',\n",
        "    'trade_per_pers',\n",
        "    'pers_per_bed',\n",
        "    'self_goods_sold',\n",
        "    'other_goods_sold',\n",
        "    'org_num',\n",
        "    'entrep_num',\n",
        "    'buildings_apartments',\n",
        "    'buildings_service',\n",
        "    'buildings_retail',\n",
        "    'buildings_kindergarten',\n",
        "    'buildings_school',\n",
        "    'buildings_office',\n",
        "    'buildings_construction',\n",
        "    'buildings_commercial',\n",
        "    'buildings_hospital',\n",
        "    'buildings_university',\n",
        "    'buildings_public',\n",
        "    'buildings_industrial',\n",
        "    'buildings_church',\n",
        "    'education',\n",
        "    'food_buy',\n",
        "    'food_out',\n",
        "    'health',\n",
        "    'leisure',\n",
        "    'religion',\n",
        "    'services',\n",
        "    'shopping',\n",
        "    'transport',\n",
        "    'mun_district',\n",
        "]\n",
        "\n",
        "df_flats_without_POI = df_flats.drop(columns=POI, errors='ignore')\n",
        "df_flats_rasters_only = df_flats_rasters.drop(columns=POI, errors='ignore')\n"
      ],
      "metadata": {
        "colab": {
          "base_uri": "https://localhost:8080/"
        },
        "id": "pIfrAm7MoclU",
        "outputId": "33fb7723-a356-4386-945f-e8e80f63d38f"
      },
      "execution_count": 26,
      "outputs": [
        {
          "output_type": "stream",
          "name": "stderr",
          "text": [
            "/tmp/ipython-input-26-535601612.py:3: FutureWarning: A value is trying to be set on a copy of a DataFrame or Series through chained assignment using an inplace method.\n",
            "The behavior will change in pandas 3.0. This inplace method will never work because the intermediate object on which we are setting values always behaves as a copy.\n",
            "\n",
            "For example, when doing 'df[col].method(value, inplace=True)', try using 'df.method({col: value}, inplace=True)' or df[col] = df[col].method(value) instead, to perform the operation inplace on the original object.\n",
            "\n",
            "\n",
            "  df_mega_base[column].fillna(df_mega_base[column].mean(), inplace=True)\n"
          ]
        }
      ]
    },
    {
      "cell_type": "markdown",
      "source": [
        "# GNN предсказание на датасете квартир + растровой гео-информации"
      ],
      "metadata": {
        "id": "-xxRMvfkQ6GW"
      }
    },
    {
      "cell_type": "markdown",
      "source": [
        "# GNN\n",
        "Датасет квартиры МСК"
      ],
      "metadata": {
        "id": "X5owgBClCG6L"
      }
    },
    {
      "cell_type": "code",
      "source": [
        "# === 1. Загрузка и подготовка данных ===\n",
        "y = df_mega_base['price']\n",
        "X = df_flats_without_POI.copy()\n",
        "\n",
        "# Делим на train и test\n",
        "df_train_flats, df_test_flats, y_train_price, y_test_price = train_test_split(\n",
        "    X, y, test_size=0.2, random_state=999\n",
        ")\n",
        "\n",
        "# Масштабируем таргеты\n",
        "target_scaler = StandardScaler()\n",
        "y_train_scaled = target_scaler.fit_transform(y_train_price.values.reshape(-1, 1))\n",
        "y_test_scaled = target_scaler.transform(y_test_price.values.reshape(-1, 1))\n",
        "\n",
        "# Объединение\n",
        "df_all = pd.concat([df_train_flats, df_test_flats], ignore_index=True)\n",
        "y_all = np.vstack([y_train_scaled, y_test_scaled])\n",
        "X_all = df_all.values.astype(np.float32)\n",
        "\n",
        "# === 2. Построение графа и PyG Data ===\n",
        "A = kneighbors_graph(X_all, n_neighbors=8, mode='connectivity', include_self=False)\n",
        "edge_index = torch.tensor(np.array(A.nonzero()), dtype=torch.long)"
      ],
      "metadata": {
        "id": "YLhhQDtiCIao"
      },
      "execution_count": 27,
      "outputs": []
    },
    {
      "cell_type": "code",
      "source": [
        "# === NEW: определим устройство ===\n",
        "device = torch.device('cuda' if torch.cuda.is_available() else 'cpu')\n",
        "\n",
        "data = Data(\n",
        "    x=torch.tensor(X_all, dtype=torch.float),\n",
        "    edge_index=edge_index,\n",
        "    y=torch.tensor(y_all, dtype=torch.float)\n",
        ")\n",
        "\n",
        "# Маски\n",
        "train_mask = torch.zeros(data.num_nodes, dtype=torch.bool)\n",
        "test_mask = torch.zeros(data.num_nodes, dtype=torch.bool)\n",
        "train_mask[:len(df_train_flats)] = True\n",
        "test_mask[len(df_train_flats):] = True\n",
        "data.train_mask = train_mask\n",
        "data.test_mask = test_mask\n",
        "\n",
        "# Переносим data на GPU\n",
        "data = data.to(device)\n",
        "\n",
        "# === 3. GNN модель ===\n",
        "class DeepGNN(torch.nn.Module):\n",
        "    def __init__(self, in_channels, hidden_channels, out_channels, dropout=0.3):\n",
        "        super(DeepGNN, self).__init__()\n",
        "        self.dropout = dropout\n",
        "        self.conv1 = SAGEConv(in_channels, hidden_channels)\n",
        "        self.conv2 = SAGEConv(hidden_channels, hidden_channels)\n",
        "        self.conv3 = SAGEConv(hidden_channels, hidden_channels)\n",
        "        self.mlp = torch.nn.Sequential(\n",
        "            torch.nn.Linear(hidden_channels, hidden_channels // 2),\n",
        "            torch.nn.ReLU(),\n",
        "            torch.nn.Dropout(dropout),\n",
        "            torch.nn.Linear(hidden_channels // 2, out_channels)\n",
        "        )\n",
        "\n",
        "    def forward(self, x, edge_index):\n",
        "        x = self.conv1(x, edge_index)\n",
        "        x = F.relu(x)\n",
        "        x = F.dropout(x, p=self.dropout, training=self.training)\n",
        "\n",
        "        x = self.conv2(x, edge_index)\n",
        "        x = F.relu(x)\n",
        "        x = F.dropout(x, p=self.dropout, training=self.training)\n",
        "\n",
        "        x = self.conv3(x, edge_index)\n",
        "        x = F.relu(x)\n",
        "\n",
        "        return self.mlp(x)\n",
        "\n",
        "    def get_embeddings(self, x, edge_index):\n",
        "        x = self.conv1(x, edge_index)\n",
        "        x = F.relu(x)\n",
        "        x = self.conv2(x, edge_index)\n",
        "        x = F.relu(x)\n",
        "        x = self.conv3(x, edge_index)\n",
        "        x = F.relu(x)\n",
        "        return x\n",
        "\n",
        "\n",
        "# Модель и оптимизатор\n",
        "model = DeepGNN(in_channels=X_all.shape[1], hidden_channels=192, out_channels=1).to(device)\n",
        "optimizer = torch.optim.Adam(model.parameters(), lr=0.001)\n",
        "loss_fn = torch.nn.MSELoss()"
      ],
      "metadata": {
        "id": "6paL67GKCIgI"
      },
      "execution_count": 39,
      "outputs": []
    },
    {
      "cell_type": "code",
      "source": [
        "model.train()\n",
        "for epoch in range(500):\n",
        "    optimizer.zero_grad()\n",
        "    out = model(data.x, data.edge_index).squeeze()\n",
        "    loss = loss_fn(out[data.train_mask], data.y[data.train_mask].squeeze())\n",
        "    loss.backward()\n",
        "    optimizer.step()\n",
        "    if epoch % 10 == 0:\n",
        "        print(f'Epoch {epoch}, Loss: {loss.item():.4f}')\n",
        "\n",
        "# === 5. Оценка модели (RMSE на тесте) ===\n",
        "model.eval()\n",
        "with torch.no_grad():\n",
        "    preds_scaled = model(data.x, data.edge_index).squeeze()\n",
        "    preds_test_scaled = preds_scaled[data.test_mask].cpu().numpy()\n",
        "    y_test_scaled_true = data.y[data.test_mask].squeeze().cpu().numpy()\n",
        "\n",
        "    # Обратное масштабирование\n",
        "    preds_test = target_scaler.inverse_transform(preds_test_scaled.reshape(-1, 1))\n",
        "    y_test_true = target_scaler.inverse_transform(y_test_scaled_true.reshape(-1, 1))\n",
        "\n",
        "    # Вычисляем RMSE\n",
        "    rmse = mean_squared_error(y_test_true, preds_test) ** 0.5\n",
        "    print(f'\\nTest RMSE: {rmse:.2f}')"
      ],
      "metadata": {
        "colab": {
          "base_uri": "https://localhost:8080/"
        },
        "id": "hxQlK7EWCQMI",
        "outputId": "f1b5f8cb-b2af-436f-e3f6-febe679f5220"
      },
      "execution_count": 41,
      "outputs": [
        {
          "output_type": "stream",
          "name": "stdout",
          "text": [
            "Epoch 0, Loss: 0.5569\n",
            "Epoch 10, Loss: 0.5178\n",
            "Epoch 20, Loss: 0.5617\n",
            "Epoch 30, Loss: 0.5633\n",
            "Epoch 40, Loss: 0.5214\n",
            "Epoch 50, Loss: 0.4895\n",
            "Epoch 60, Loss: 0.4563\n",
            "Epoch 70, Loss: 0.4493\n",
            "Epoch 80, Loss: 0.5116\n",
            "Epoch 90, Loss: 0.5189\n",
            "Epoch 100, Loss: 0.4592\n",
            "Epoch 110, Loss: 0.4173\n",
            "Epoch 120, Loss: 0.3977\n",
            "Epoch 130, Loss: 0.4055\n",
            "Epoch 140, Loss: 0.3918\n",
            "Epoch 150, Loss: 0.3973\n",
            "Epoch 160, Loss: 0.3637\n",
            "Epoch 170, Loss: 0.3534\n",
            "Epoch 180, Loss: 0.4313\n",
            "Epoch 190, Loss: 0.4267\n",
            "Epoch 200, Loss: 0.3880\n",
            "Epoch 210, Loss: 0.3577\n",
            "Epoch 220, Loss: 0.3429\n",
            "Epoch 230, Loss: 0.3372\n",
            "Epoch 240, Loss: 0.3416\n",
            "Epoch 250, Loss: 0.4106\n",
            "Epoch 260, Loss: 0.4183\n",
            "Epoch 270, Loss: 0.3659\n",
            "Epoch 280, Loss: 0.3566\n",
            "Epoch 290, Loss: 0.3389\n",
            "Epoch 300, Loss: 0.3269\n",
            "Epoch 310, Loss: 0.3818\n",
            "Epoch 320, Loss: 0.3912\n",
            "Epoch 330, Loss: 0.3431\n",
            "Epoch 340, Loss: 0.3455\n",
            "Epoch 350, Loss: 0.3266\n",
            "Epoch 360, Loss: 0.4009\n",
            "Epoch 370, Loss: 0.4360\n",
            "Epoch 380, Loss: 0.3946\n",
            "Epoch 390, Loss: 0.3636\n",
            "Epoch 400, Loss: 0.3460\n",
            "Epoch 410, Loss: 0.3393\n",
            "Epoch 420, Loss: 0.3303\n",
            "Epoch 430, Loss: 0.3289\n",
            "Epoch 440, Loss: 0.3886\n",
            "Epoch 450, Loss: 0.3703\n",
            "Epoch 460, Loss: 0.3313\n",
            "Epoch 470, Loss: 0.3225\n",
            "Epoch 480, Loss: 0.3379\n",
            "Epoch 490, Loss: 0.3336\n",
            "\n",
            "Test RMSE: 14948578.01\n"
          ]
        }
      ]
    },
    {
      "cell_type": "markdown",
      "source": [
        "# GNN\n",
        "Датасет квартиры МСК + POI"
      ],
      "metadata": {
        "id": "dOStEq6WCCpJ"
      }
    },
    {
      "cell_type": "code",
      "source": [
        "# === 1. Загрузка и подготовка данных ===\n",
        "y = df_mega_base['price']\n",
        "X = df_flats.copy()\n",
        "\n",
        "# Делим на train и test\n",
        "df_train_flats, df_test_flats, y_train_price, y_test_price = train_test_split(\n",
        "    X, y, test_size=0.2, random_state=999\n",
        ")\n",
        "\n",
        "# Масштабируем таргеты\n",
        "target_scaler = StandardScaler()\n",
        "y_train_scaled = target_scaler.fit_transform(y_train_price.values.reshape(-1, 1))\n",
        "y_test_scaled = target_scaler.transform(y_test_price.values.reshape(-1, 1))\n",
        "\n",
        "# Объединение\n",
        "df_all = pd.concat([df_train_flats, df_test_flats], ignore_index=True)\n",
        "y_all = np.vstack([y_train_scaled, y_test_scaled])\n",
        "X_all = df_all.values.astype(np.float32)\n",
        "\n",
        "# === 2. Построение графа и PyG Data ===\n",
        "A = kneighbors_graph(X_all, n_neighbors=8, mode='connectivity', include_self=False)\n",
        "edge_index = torch.tensor(np.array(A.nonzero()), dtype=torch.long)"
      ],
      "metadata": {
        "id": "CRdICM2IBqqE"
      },
      "execution_count": 42,
      "outputs": []
    },
    {
      "cell_type": "code",
      "source": [
        "# === NEW: определим устройство ===\n",
        "device = torch.device('cuda' if torch.cuda.is_available() else 'cpu')\n",
        "\n",
        "data = Data(\n",
        "    x=torch.tensor(X_all, dtype=torch.float),\n",
        "    edge_index=edge_index,\n",
        "    y=torch.tensor(y_all, dtype=torch.float)\n",
        ")\n",
        "\n",
        "# Маски\n",
        "train_mask = torch.zeros(data.num_nodes, dtype=torch.bool)\n",
        "test_mask = torch.zeros(data.num_nodes, dtype=torch.bool)\n",
        "train_mask[:len(df_train_flats)] = True\n",
        "test_mask[len(df_train_flats):] = True\n",
        "data.train_mask = train_mask\n",
        "data.test_mask = test_mask\n",
        "\n",
        "# Переносим data на GPU\n",
        "data = data.to(device)\n",
        "\n",
        "# === 3. GNN модель ===\n",
        "class DeepGNN(torch.nn.Module):\n",
        "    def __init__(self, in_channels, hidden_channels, out_channels, dropout=0.3):\n",
        "        super(DeepGNN, self).__init__()\n",
        "        self.dropout = dropout\n",
        "        self.conv1 = SAGEConv(in_channels, hidden_channels)\n",
        "        self.conv2 = SAGEConv(hidden_channels, hidden_channels)\n",
        "        self.conv3 = SAGEConv(hidden_channels, hidden_channels)\n",
        "        self.mlp = torch.nn.Sequential(\n",
        "            torch.nn.Linear(hidden_channels, hidden_channels // 2),\n",
        "            torch.nn.ReLU(),\n",
        "            torch.nn.Dropout(dropout),\n",
        "            torch.nn.Linear(hidden_channels // 2, out_channels)\n",
        "        )\n",
        "\n",
        "    def forward(self, x, edge_index):\n",
        "        x = self.conv1(x, edge_index)\n",
        "        x = F.relu(x)\n",
        "        x = F.dropout(x, p=self.dropout, training=self.training)\n",
        "\n",
        "        x = self.conv2(x, edge_index)\n",
        "        x = F.relu(x)\n",
        "        x = F.dropout(x, p=self.dropout, training=self.training)\n",
        "\n",
        "        x = self.conv3(x, edge_index)\n",
        "        x = F.relu(x)\n",
        "\n",
        "        return self.mlp(x)\n",
        "\n",
        "    def get_embeddings(self, x, edge_index):\n",
        "        x = self.conv1(x, edge_index)\n",
        "        x = F.relu(x)\n",
        "        x = self.conv2(x, edge_index)\n",
        "        x = F.relu(x)\n",
        "        x = self.conv3(x, edge_index)\n",
        "        x = F.relu(x)\n",
        "        return x\n",
        "\n",
        "\n",
        "# Модель и оптимизатор\n",
        "model = DeepGNN(in_channels=X_all.shape[1], hidden_channels=192, out_channels=1).to(device)\n",
        "optimizer = torch.optim.Adam(model.parameters(), lr=0.001)\n",
        "loss_fn = torch.nn.MSELoss()"
      ],
      "metadata": {
        "id": "UBxf4yM0Bqm5"
      },
      "execution_count": 43,
      "outputs": []
    },
    {
      "cell_type": "code",
      "source": [
        "model.train()\n",
        "for epoch in range(500):\n",
        "    optimizer.zero_grad()\n",
        "    out = model(data.x, data.edge_index).squeeze()\n",
        "    loss = loss_fn(out[data.train_mask], data.y[data.train_mask].squeeze())\n",
        "    loss.backward()\n",
        "    optimizer.step()\n",
        "    if epoch % 10 == 0:\n",
        "        print(f'Epoch {epoch}, Loss: {loss.item():.4f}')\n",
        "\n",
        "# === 5. Оценка модели (RMSE на тесте) ===\n",
        "model.eval()\n",
        "with torch.no_grad():\n",
        "    preds_scaled = model(data.x, data.edge_index).squeeze()\n",
        "    preds_test_scaled = preds_scaled[data.test_mask].cpu().numpy()\n",
        "    y_test_scaled_true = data.y[data.test_mask].squeeze().cpu().numpy()\n",
        "\n",
        "    # Обратное масштабирование\n",
        "    preds_test = target_scaler.inverse_transform(preds_test_scaled.reshape(-1, 1))\n",
        "    y_test_true = target_scaler.inverse_transform(y_test_scaled_true.reshape(-1, 1))\n",
        "\n",
        "    # Вычисляем RMSE\n",
        "    rmse = mean_squared_error(y_test_true, preds_test) ** 0.5\n",
        "    print(f'\\nTest RMSE: {rmse:.2f}')"
      ],
      "metadata": {
        "colab": {
          "base_uri": "https://localhost:8080/"
        },
        "id": "1amWCsO4Bqcw",
        "outputId": "8e3ea2a5-4e60-4dc3-abcf-6d885318a66c"
      },
      "execution_count": 44,
      "outputs": [
        {
          "output_type": "stream",
          "name": "stdout",
          "text": [
            "Epoch 0, Loss: 1.1371\n",
            "Epoch 10, Loss: 1.0406\n",
            "Epoch 20, Loss: 1.0032\n",
            "Epoch 30, Loss: 1.0014\n",
            "Epoch 40, Loss: 1.0005\n",
            "Epoch 50, Loss: 1.0003\n",
            "Epoch 60, Loss: 1.0005\n",
            "Epoch 70, Loss: 0.9999\n",
            "Epoch 80, Loss: 1.0000\n",
            "Epoch 90, Loss: 1.0000\n",
            "Epoch 100, Loss: 1.0004\n",
            "Epoch 110, Loss: 1.0001\n",
            "Epoch 120, Loss: 0.9998\n",
            "Epoch 130, Loss: 0.9998\n",
            "Epoch 140, Loss: 0.9997\n",
            "Epoch 150, Loss: 0.9993\n",
            "Epoch 160, Loss: 0.9993\n",
            "Epoch 170, Loss: 0.9988\n",
            "Epoch 180, Loss: 0.9986\n",
            "Epoch 190, Loss: 0.9981\n",
            "Epoch 200, Loss: 0.9972\n",
            "Epoch 210, Loss: 0.9964\n",
            "Epoch 220, Loss: 0.9955\n",
            "Epoch 230, Loss: 0.9956\n",
            "Epoch 240, Loss: 0.9945\n",
            "Epoch 250, Loss: 0.9938\n",
            "Epoch 260, Loss: 0.9933\n",
            "Epoch 270, Loss: 0.9917\n",
            "Epoch 280, Loss: 0.9899\n",
            "Epoch 290, Loss: 0.9883\n",
            "Epoch 300, Loss: 0.9881\n",
            "Epoch 310, Loss: 0.9841\n",
            "Epoch 320, Loss: 0.9849\n",
            "Epoch 330, Loss: 0.9827\n",
            "Epoch 340, Loss: 0.9811\n",
            "Epoch 350, Loss: 0.9785\n",
            "Epoch 360, Loss: 0.9769\n",
            "Epoch 370, Loss: 0.9753\n",
            "Epoch 380, Loss: 0.9749\n",
            "Epoch 390, Loss: 0.9715\n",
            "Epoch 400, Loss: 0.9733\n",
            "Epoch 410, Loss: 0.9673\n",
            "Epoch 420, Loss: 0.9680\n",
            "Epoch 430, Loss: 0.9677\n",
            "Epoch 440, Loss: 0.9638\n",
            "Epoch 450, Loss: 0.9640\n",
            "Epoch 460, Loss: 0.9601\n",
            "Epoch 470, Loss: 0.9574\n",
            "Epoch 480, Loss: 0.9591\n",
            "Epoch 490, Loss: 0.9562\n",
            "\n",
            "Test RMSE: 19709185.05\n"
          ]
        }
      ]
    },
    {
      "cell_type": "markdown",
      "source": [
        "# GNN\n",
        "Датасет квартиры МСК + растровые данные"
      ],
      "metadata": {
        "id": "_3fjVoGgPoNN"
      }
    },
    {
      "cell_type": "code",
      "source": [
        "# === 1. Загрузка и подготовка данных ===\n",
        "y = df_mega_base['price']\n",
        "X = df_flats_rasters\n",
        "\n",
        "# Делим на train и test\n",
        "df_train_flats, df_test_flats, y_train_price, y_test_price = train_test_split(\n",
        "    X, y, test_size=0.2, random_state=999\n",
        ")\n",
        "\n",
        "# Масштабируем таргеты\n",
        "target_scaler = StandardScaler()\n",
        "y_train_scaled = target_scaler.fit_transform(y_train_price.values.reshape(-1, 1))\n",
        "y_test_scaled = target_scaler.transform(y_test_price.values.reshape(-1, 1))\n",
        "\n",
        "# Объединение\n",
        "df_all = pd.concat([df_train_flats, df_test_flats], ignore_index=True)\n",
        "y_all = np.vstack([y_train_scaled, y_test_scaled])\n",
        "X_all = df_all.values.astype(np.float32)\n",
        "\n",
        "# === 2. Построение графа и PyG Data ===\n",
        "A = kneighbors_graph(X_all, n_neighbors=8, mode='connectivity', include_self=False)\n",
        "edge_index = torch.tensor(np.array(A.nonzero()), dtype=torch.long)"
      ],
      "metadata": {
        "id": "-nljJGskPh0M"
      },
      "execution_count": 45,
      "outputs": []
    },
    {
      "cell_type": "code",
      "source": [
        "# === NEW: определим устройство ===\n",
        "device = torch.device('cuda' if torch.cuda.is_available() else 'cpu')\n",
        "\n",
        "data = Data(\n",
        "    x=torch.tensor(X_all, dtype=torch.float),\n",
        "    edge_index=edge_index,\n",
        "    y=torch.tensor(y_all, dtype=torch.float)\n",
        ")\n",
        "\n",
        "# Маски\n",
        "train_mask = torch.zeros(data.num_nodes, dtype=torch.bool)\n",
        "test_mask = torch.zeros(data.num_nodes, dtype=torch.bool)\n",
        "train_mask[:len(df_train_flats)] = True\n",
        "test_mask[len(df_train_flats):] = True\n",
        "data.train_mask = train_mask\n",
        "data.test_mask = test_mask\n",
        "\n",
        "# Переносим data на GPU\n",
        "data = data.to(device)\n",
        "\n",
        "# === 3. GNN модель ===\n",
        "class DeepGNN(torch.nn.Module):\n",
        "    def __init__(self, in_channels, hidden_channels, out_channels, dropout=0.3):\n",
        "        super(DeepGNN, self).__init__()\n",
        "        self.dropout = dropout\n",
        "        self.conv1 = SAGEConv(in_channels, hidden_channels)\n",
        "        self.conv2 = SAGEConv(hidden_channels, hidden_channels)\n",
        "        self.conv3 = SAGEConv(hidden_channels, hidden_channels)\n",
        "        self.mlp = torch.nn.Sequential(\n",
        "            torch.nn.Linear(hidden_channels, hidden_channels // 2),\n",
        "            torch.nn.ReLU(),\n",
        "            torch.nn.Dropout(dropout),\n",
        "            torch.nn.Linear(hidden_channels // 2, out_channels)\n",
        "        )\n",
        "\n",
        "    def forward(self, x, edge_index):\n",
        "        x = self.conv1(x, edge_index)\n",
        "        x = F.relu(x)\n",
        "        x = F.dropout(x, p=self.dropout, training=self.training)\n",
        "\n",
        "        x = self.conv2(x, edge_index)\n",
        "        x = F.relu(x)\n",
        "        x = F.dropout(x, p=self.dropout, training=self.training)\n",
        "\n",
        "        x = self.conv3(x, edge_index)\n",
        "        x = F.relu(x)\n",
        "\n",
        "        return self.mlp(x)\n",
        "\n",
        "    def get_embeddings(self, x, edge_index):\n",
        "        x = self.conv1(x, edge_index)\n",
        "        x = F.relu(x)\n",
        "        x = self.conv2(x, edge_index)\n",
        "        x = F.relu(x)\n",
        "        x = self.conv3(x, edge_index)\n",
        "        x = F.relu(x)\n",
        "        return x\n",
        "\n",
        "\n",
        "# Модель и оптимизатор\n",
        "model = DeepGNN(in_channels=X_all.shape[1], hidden_channels=192, out_channels=1).to(device)\n",
        "optimizer = torch.optim.Adam(model.parameters(), lr=0.0001)\n",
        "loss_fn = torch.nn.MSELoss()"
      ],
      "metadata": {
        "id": "bBEVeBOTPhxH"
      },
      "execution_count": 48,
      "outputs": []
    },
    {
      "cell_type": "code",
      "source": [
        "model.train()\n",
        "for epoch in range(100):\n",
        "    optimizer.zero_grad()\n",
        "    out = model(data.x, data.edge_index).squeeze()\n",
        "    loss = loss_fn(out[data.train_mask], data.y[data.train_mask].squeeze())\n",
        "    loss.backward()\n",
        "    optimizer.step()\n",
        "    if epoch % 10 == 0:\n",
        "        print(f'Epoch {epoch}, Loss: {loss.item():.4f}')\n",
        "\n",
        "# === 5. Оценка модели (RMSE на тесте) ===\n",
        "model.eval()\n",
        "with torch.no_grad():\n",
        "    preds_scaled = model(data.x, data.edge_index).squeeze()\n",
        "    preds_test_scaled = preds_scaled[data.test_mask].cpu().numpy()\n",
        "    y_test_scaled_true = data.y[data.test_mask].squeeze().cpu().numpy()\n",
        "\n",
        "    # Обратное масштабирование\n",
        "    preds_test = target_scaler.inverse_transform(preds_test_scaled.reshape(-1, 1))\n",
        "    y_test_true = target_scaler.inverse_transform(y_test_scaled_true.reshape(-1, 1))\n",
        "\n",
        "    # Вычисляем RMSE\n",
        "    rmse = mean_squared_error(y_test_true, preds_test) ** 0.5\n",
        "    print(f'\\nTest RMSE: {rmse:.2f}')"
      ],
      "metadata": {
        "colab": {
          "base_uri": "https://localhost:8080/",
          "height": 454
        },
        "id": "SVSQiFvRPhuT",
        "outputId": "2ad2e8af-3df8-4890-c5c9-9b4dd6046197"
      },
      "execution_count": 49,
      "outputs": [
        {
          "output_type": "stream",
          "name": "stdout",
          "text": [
            "Epoch 0, Loss: 1.0050\n",
            "Epoch 10, Loss: 1.0010\n",
            "Epoch 20, Loss: 1.0026\n",
            "Epoch 30, Loss: 1.0009\n",
            "Epoch 40, Loss: 0.9957\n",
            "Epoch 50, Loss: 0.9993\n",
            "Epoch 60, Loss: 0.9637\n"
          ]
        },
        {
          "output_type": "error",
          "ename": "KeyboardInterrupt",
          "evalue": "",
          "traceback": [
            "\u001b[0;31m---------------------------------------------------------------------------\u001b[0m",
            "\u001b[0;31mKeyboardInterrupt\u001b[0m                         Traceback (most recent call last)",
            "\u001b[0;32m/tmp/ipython-input-49-1967151237.py\u001b[0m in \u001b[0;36m<cell line: 0>\u001b[0;34m()\u001b[0m\n\u001b[1;32m      3\u001b[0m     \u001b[0moptimizer\u001b[0m\u001b[0;34m.\u001b[0m\u001b[0mzero_grad\u001b[0m\u001b[0;34m(\u001b[0m\u001b[0;34m)\u001b[0m\u001b[0;34m\u001b[0m\u001b[0;34m\u001b[0m\u001b[0m\n\u001b[1;32m      4\u001b[0m     \u001b[0mout\u001b[0m \u001b[0;34m=\u001b[0m \u001b[0mmodel\u001b[0m\u001b[0;34m(\u001b[0m\u001b[0mdata\u001b[0m\u001b[0;34m.\u001b[0m\u001b[0mx\u001b[0m\u001b[0;34m,\u001b[0m \u001b[0mdata\u001b[0m\u001b[0;34m.\u001b[0m\u001b[0medge_index\u001b[0m\u001b[0;34m)\u001b[0m\u001b[0;34m.\u001b[0m\u001b[0msqueeze\u001b[0m\u001b[0;34m(\u001b[0m\u001b[0;34m)\u001b[0m\u001b[0;34m\u001b[0m\u001b[0;34m\u001b[0m\u001b[0m\n\u001b[0;32m----> 5\u001b[0;31m     \u001b[0mloss\u001b[0m \u001b[0;34m=\u001b[0m \u001b[0mloss_fn\u001b[0m\u001b[0;34m(\u001b[0m\u001b[0mout\u001b[0m\u001b[0;34m[\u001b[0m\u001b[0mdata\u001b[0m\u001b[0;34m.\u001b[0m\u001b[0mtrain_mask\u001b[0m\u001b[0;34m]\u001b[0m\u001b[0;34m,\u001b[0m \u001b[0mdata\u001b[0m\u001b[0;34m.\u001b[0m\u001b[0my\u001b[0m\u001b[0;34m[\u001b[0m\u001b[0mdata\u001b[0m\u001b[0;34m.\u001b[0m\u001b[0mtrain_mask\u001b[0m\u001b[0;34m]\u001b[0m\u001b[0;34m.\u001b[0m\u001b[0msqueeze\u001b[0m\u001b[0;34m(\u001b[0m\u001b[0;34m)\u001b[0m\u001b[0;34m)\u001b[0m\u001b[0;34m\u001b[0m\u001b[0;34m\u001b[0m\u001b[0m\n\u001b[0m\u001b[1;32m      6\u001b[0m     \u001b[0mloss\u001b[0m\u001b[0;34m.\u001b[0m\u001b[0mbackward\u001b[0m\u001b[0;34m(\u001b[0m\u001b[0;34m)\u001b[0m\u001b[0;34m\u001b[0m\u001b[0;34m\u001b[0m\u001b[0m\n\u001b[1;32m      7\u001b[0m     \u001b[0moptimizer\u001b[0m\u001b[0;34m.\u001b[0m\u001b[0mstep\u001b[0m\u001b[0;34m(\u001b[0m\u001b[0;34m)\u001b[0m\u001b[0;34m\u001b[0m\u001b[0;34m\u001b[0m\u001b[0m\n",
            "\u001b[0;32m/usr/local/lib/python3.11/dist-packages/torch_geometric/data/data.py\u001b[0m in \u001b[0;36my\u001b[0;34m(self)\u001b[0m\n\u001b[1;32m    980\u001b[0m         \u001b[0mself\u001b[0m\u001b[0;34m.\u001b[0m\u001b[0m_store\u001b[0m\u001b[0;34m.\u001b[0m\u001b[0medge_attr\u001b[0m \u001b[0;34m=\u001b[0m \u001b[0medge_attr\u001b[0m\u001b[0;34m\u001b[0m\u001b[0;34m\u001b[0m\u001b[0m\n\u001b[1;32m    981\u001b[0m \u001b[0;34m\u001b[0m\u001b[0m\n\u001b[0;32m--> 982\u001b[0;31m     \u001b[0;34m@\u001b[0m\u001b[0mproperty\u001b[0m\u001b[0;34m\u001b[0m\u001b[0;34m\u001b[0m\u001b[0m\n\u001b[0m\u001b[1;32m    983\u001b[0m     \u001b[0;32mdef\u001b[0m \u001b[0my\u001b[0m\u001b[0;34m(\u001b[0m\u001b[0mself\u001b[0m\u001b[0;34m)\u001b[0m \u001b[0;34m->\u001b[0m \u001b[0mOptional\u001b[0m\u001b[0;34m[\u001b[0m\u001b[0mUnion\u001b[0m\u001b[0;34m[\u001b[0m\u001b[0mTensor\u001b[0m\u001b[0;34m,\u001b[0m \u001b[0mint\u001b[0m\u001b[0;34m,\u001b[0m \u001b[0mfloat\u001b[0m\u001b[0;34m]\u001b[0m\u001b[0;34m]\u001b[0m\u001b[0;34m:\u001b[0m\u001b[0;34m\u001b[0m\u001b[0;34m\u001b[0m\u001b[0m\n\u001b[1;32m    984\u001b[0m         \u001b[0;32mreturn\u001b[0m \u001b[0mself\u001b[0m\u001b[0;34m[\u001b[0m\u001b[0;34m'y'\u001b[0m\u001b[0;34m]\u001b[0m \u001b[0;32mif\u001b[0m \u001b[0;34m'y'\u001b[0m \u001b[0;32min\u001b[0m \u001b[0mself\u001b[0m\u001b[0;34m.\u001b[0m\u001b[0m_store\u001b[0m \u001b[0;32melse\u001b[0m \u001b[0;32mNone\u001b[0m\u001b[0;34m\u001b[0m\u001b[0;34m\u001b[0m\u001b[0m\n",
            "\u001b[0;31mKeyboardInterrupt\u001b[0m: "
          ]
        }
      ]
    },
    {
      "cell_type": "markdown",
      "source": [
        "# GNN\n",
        "Датасет квартиры МСК + POI + растровые данные"
      ],
      "metadata": {
        "id": "POtCYJKdDMRF"
      }
    },
    {
      "cell_type": "code",
      "source": [
        "# === 1. Загрузка и подготовка данных ===\n",
        "y = df_mega_base['price']\n",
        "X = df_flats_rasters.copy()\n",
        "\n",
        "# Делим на train и test\n",
        "df_train_flats, df_test_flats, y_train_price, y_test_price = train_test_split(\n",
        "    X, y, test_size=0.2, random_state=999\n",
        ")\n",
        "\n",
        "# Масштабируем таргеты\n",
        "target_scaler = StandardScaler()\n",
        "y_train_scaled = target_scaler.fit_transform(y_train_price.values.reshape(-1, 1))\n",
        "y_test_scaled = target_scaler.transform(y_test_price.values.reshape(-1, 1))\n",
        "\n",
        "# Объединение\n",
        "df_all = pd.concat([df_train_flats, df_test_flats], ignore_index=True)\n",
        "y_all = np.vstack([y_train_scaled, y_test_scaled])\n",
        "X_all = df_all.values.astype(np.float32)\n",
        "\n",
        "# === 2. Построение графа и PyG Data ===\n",
        "A = kneighbors_graph(X_all, n_neighbors=8, mode='connectivity', include_self=False)\n",
        "edge_index = torch.tensor(np.array(A.nonzero()), dtype=torch.long)"
      ],
      "metadata": {
        "id": "7xRqtCT1z8u1"
      },
      "execution_count": 51,
      "outputs": []
    },
    {
      "cell_type": "code",
      "source": [
        "# === NEW: определим устройство ===\n",
        "device = torch.device('cuda' if torch.cuda.is_available() else 'cpu')\n",
        "\n",
        "data = Data(\n",
        "    x=torch.tensor(X_all, dtype=torch.float),\n",
        "    edge_index=edge_index,\n",
        "    y=torch.tensor(y_all, dtype=torch.float)\n",
        ")\n",
        "\n",
        "# Маски\n",
        "train_mask = torch.zeros(data.num_nodes, dtype=torch.bool)\n",
        "test_mask = torch.zeros(data.num_nodes, dtype=torch.bool)\n",
        "train_mask[:len(df_train_flats)] = True\n",
        "test_mask[len(df_train_flats):] = True\n",
        "data.train_mask = train_mask\n",
        "data.test_mask = test_mask\n",
        "\n",
        "# Переносим data на GPU\n",
        "data = data.to(device)\n",
        "\n",
        "# === 3. GNN модель ===\n",
        "class DeepGNN(torch.nn.Module):\n",
        "    def __init__(self, in_channels, hidden_channels, out_channels, dropout=0.4):\n",
        "        super(DeepGNN, self).__init__()\n",
        "        self.dropout = dropout\n",
        "        self.conv1 = SAGEConv(in_channels, hidden_channels)\n",
        "        self.bn1 = BatchNorm(hidden_channels)\n",
        "        self.conv2 = SAGEConv(hidden_channels, hidden_channels)\n",
        "        self.bn2 = BatchNorm(hidden_channels)\n",
        "        self.conv3 = SAGEConv(hidden_channels, hidden_channels)\n",
        "        self.bn3 = BatchNorm(hidden_channels)\n",
        "        self.mlp = torch.nn.Sequential(\n",
        "            torch.nn.Linear(hidden_channels, hidden_channels // 2),\n",
        "            torch.nn.ReLU(),\n",
        "            torch.nn.Dropout(dropout),\n",
        "            torch.nn.Linear(hidden_channels // 2, out_channels)\n",
        "        )\n",
        "\n",
        "    def forward(self, x, edge_index):\n",
        "        x = self.conv1(x, edge_index)\n",
        "        x = self.bn1(x)\n",
        "        x = F.relu(x)\n",
        "        x = F.dropout(x, p=self.dropout, training=self.training)\n",
        "\n",
        "        x = self.conv2(x, edge_index)\n",
        "        x = self.bn2(x)\n",
        "        x = F.relu(x)\n",
        "        x = F.dropout(x, p=self.dropout, training=self.training)\n",
        "\n",
        "        x = self.conv3(x, edge_index)\n",
        "        x = self.bn3(x)\n",
        "        x = F.relu(x)\n",
        "        return self.mlp(x)\n",
        "\n",
        "    def get_embeddings(self, x, edge_index):\n",
        "        x = self.conv1(x, edge_index)\n",
        "        x = self.bn1(x)\n",
        "        x = F.relu(x)\n",
        "\n",
        "        x = self.conv2(x, edge_index)\n",
        "        x = self.bn2(x)\n",
        "        x = F.relu(x)\n",
        "\n",
        "        x = self.conv3(x, edge_index)\n",
        "        x = self.bn3(x)\n",
        "        x = F.relu(x)\n",
        "        return x\n",
        "\n",
        "# Модель и оптимизатор\n",
        "model = DeepGNN(in_channels=X_all.shape[1], hidden_channels=192, out_channels=1).to(device)\n",
        "optimizer = torch.optim.Adam(model.parameters(), lr=0.0001)\n",
        "loss_fn = torch.nn.MSELoss()"
      ],
      "metadata": {
        "id": "ovvO1re81BGe"
      },
      "execution_count": 60,
      "outputs": []
    },
    {
      "cell_type": "code",
      "source": [
        "model.train()\n",
        "for epoch in range(800):\n",
        "    optimizer.zero_grad()\n",
        "    out = model(data.x, data.edge_index).squeeze()\n",
        "    loss = loss_fn(out[data.train_mask], data.y[data.train_mask].squeeze())\n",
        "    loss.backward()\n",
        "    optimizer.step()\n",
        "    if epoch % 10 == 0:\n",
        "        print(f'Epoch {epoch}, Loss: {loss.item():.4f}')\n",
        "\n",
        "# === 5. Оценка модели (RMSE на тесте) ===\n",
        "model.eval()\n",
        "with torch.no_grad():\n",
        "    preds_scaled = model(data.x, data.edge_index).squeeze()\n",
        "    preds_test_scaled = preds_scaled[data.test_mask].cpu().numpy()\n",
        "    y_test_scaled_true = data.y[data.test_mask].squeeze().cpu().numpy()\n",
        "\n",
        "    # Обратное масштабирование\n",
        "    preds_test = target_scaler.inverse_transform(preds_test_scaled.reshape(-1, 1))\n",
        "    y_test_true = target_scaler.inverse_transform(y_test_scaled_true.reshape(-1, 1))\n",
        "\n",
        "    # Вычисляем RMSE\n",
        "    rmse = mean_squared_error(y_test_true, preds_test) ** 0.5\n",
        "    print(f'\\nTest RMSE: {rmse:.2f}')"
      ],
      "metadata": {
        "colab": {
          "base_uri": "https://localhost:8080/"
        },
        "id": "Uv7z9l8p1FBn",
        "outputId": "fdea42a5-2652-4c8d-decb-bae973babb01"
      },
      "execution_count": 61,
      "outputs": [
        {
          "output_type": "stream",
          "name": "stdout",
          "text": [
            "Epoch 0, Loss: 1.0262\n",
            "Epoch 10, Loss: 0.9005\n",
            "Epoch 20, Loss: 0.8428\n",
            "Epoch 30, Loss: 0.8027\n",
            "Epoch 40, Loss: 0.7708\n",
            "Epoch 50, Loss: 0.7325\n",
            "Epoch 60, Loss: 0.6915\n",
            "Epoch 70, Loss: 0.6575\n",
            "Epoch 80, Loss: 0.6297\n",
            "Epoch 90, Loss: 0.6060\n",
            "Epoch 100, Loss: 0.5724\n",
            "Epoch 110, Loss: 0.5532\n",
            "Epoch 120, Loss: 0.5297\n",
            "Epoch 130, Loss: 0.5051\n",
            "Epoch 140, Loss: 0.4854\n",
            "Epoch 150, Loss: 0.4680\n",
            "Epoch 160, Loss: 0.4516\n",
            "Epoch 170, Loss: 0.4381\n",
            "Epoch 180, Loss: 0.4154\n",
            "Epoch 190, Loss: 0.4052\n",
            "Epoch 200, Loss: 0.3859\n",
            "Epoch 210, Loss: 0.3743\n",
            "Epoch 220, Loss: 0.3610\n",
            "Epoch 230, Loss: 0.3519\n",
            "Epoch 240, Loss: 0.3380\n",
            "Epoch 250, Loss: 0.3301\n",
            "Epoch 260, Loss: 0.3209\n",
            "Epoch 270, Loss: 0.3205\n",
            "Epoch 280, Loss: 0.3066\n",
            "Epoch 290, Loss: 0.2979\n",
            "Epoch 300, Loss: 0.2936\n",
            "Epoch 310, Loss: 0.2903\n",
            "Epoch 320, Loss: 0.2775\n",
            "Epoch 330, Loss: 0.2737\n",
            "Epoch 340, Loss: 0.2661\n",
            "Epoch 350, Loss: 0.2639\n",
            "Epoch 360, Loss: 0.2542\n",
            "Epoch 370, Loss: 0.2485\n",
            "Epoch 380, Loss: 0.2500\n",
            "Epoch 390, Loss: 0.2444\n",
            "Epoch 400, Loss: 0.2415\n",
            "Epoch 410, Loss: 0.2392\n",
            "Epoch 420, Loss: 0.2374\n",
            "Epoch 430, Loss: 0.2294\n",
            "Epoch 440, Loss: 0.2258\n",
            "Epoch 450, Loss: 0.2180\n",
            "Epoch 460, Loss: 0.2181\n",
            "Epoch 470, Loss: 0.2163\n",
            "Epoch 480, Loss: 0.2164\n",
            "Epoch 490, Loss: 0.2070\n",
            "Epoch 500, Loss: 0.2045\n",
            "Epoch 510, Loss: 0.2041\n",
            "Epoch 520, Loss: 0.1991\n",
            "Epoch 530, Loss: 0.1980\n",
            "Epoch 540, Loss: 0.1984\n",
            "Epoch 550, Loss: 0.1944\n",
            "Epoch 560, Loss: 0.1923\n",
            "Epoch 570, Loss: 0.1923\n",
            "Epoch 580, Loss: 0.1854\n",
            "Epoch 590, Loss: 0.1845\n",
            "Epoch 600, Loss: 0.1896\n",
            "Epoch 610, Loss: 0.1829\n",
            "Epoch 620, Loss: 0.1818\n",
            "Epoch 630, Loss: 0.1810\n",
            "Epoch 640, Loss: 0.1776\n",
            "Epoch 650, Loss: 0.1761\n",
            "Epoch 660, Loss: 0.1735\n",
            "Epoch 670, Loss: 0.1754\n",
            "Epoch 680, Loss: 0.1729\n",
            "Epoch 690, Loss: 0.1697\n",
            "Epoch 700, Loss: 0.1669\n",
            "Epoch 710, Loss: 0.1658\n",
            "Epoch 720, Loss: 0.1671\n",
            "Epoch 730, Loss: 0.1650\n",
            "Epoch 740, Loss: 0.1614\n",
            "Epoch 750, Loss: 0.1603\n",
            "Epoch 760, Loss: 0.1624\n",
            "Epoch 770, Loss: 0.1570\n",
            "Epoch 780, Loss: 0.1580\n",
            "Epoch 790, Loss: 0.1537\n",
            "\n",
            "Test RMSE: 14462904.08\n"
          ]
        }
      ]
    },
    {
      "cell_type": "markdown",
      "source": [
        "Это лучший результат, извлечем его эмбеддинги для дальнейшего использования"
      ],
      "metadata": {
        "id": "lX5C5eYIHL1V"
      }
    },
    {
      "cell_type": "code",
      "source": [
        "# === 5. Извлечение эмбеддингов ===\n",
        "model.eval()\n",
        "with torch.no_grad():\n",
        "    embeddings = model.get_embeddings(data.x, data.edge_index).cpu().numpy()"
      ],
      "metadata": {
        "id": "JjjXr2vIRCzE"
      },
      "execution_count": 54,
      "outputs": []
    },
    {
      "cell_type": "code",
      "source": [
        "# 1. Создаем DataFrame с эмбеддингами и правильными индексами из X_all\n",
        "embeddings = pd.DataFrame(embeddings, index=df_mega_base.index)\n",
        "embeddings.to_csv('embeddings.csv')"
      ],
      "metadata": {
        "id": "fNElScMxHWxe"
      },
      "execution_count": 55,
      "outputs": []
    },
    {
      "cell_type": "code",
      "source": [
        "#подгружаем эмбеддинги, чтобы не пересчитывать\n",
        "#!gdown 1pZIcstb6kL90U8NfTpDKd7TOHr2FtEFC\n",
        "#embeddings = pd.read_csv('embeddings.csv')"
      ],
      "metadata": {
        "id": "5CPmu5JP_RAi"
      },
      "execution_count": 56,
      "outputs": []
    },
    {
      "cell_type": "markdown",
      "source": [
        "# Валидация. Датасет с фискальными данными"
      ],
      "metadata": {
        "id": "VbKh4ATrG99I"
      }
    },
    {
      "cell_type": "markdown",
      "source": [
        "## Предсказание catboost на сыром датасете"
      ],
      "metadata": {
        "id": "iKNtWJk98A6G"
      }
    },
    {
      "cell_type": "code",
      "source": [
        "from sklearn.model_selection import train_test_split\n",
        "from sklearn.preprocessing import StandardScaler\n",
        "from catboost import CatBoostRegressor\n",
        "from sklearn.metrics import mean_squared_error\n",
        "import numpy as np\n",
        "\n",
        "# === 1. Берем df_check и определяем X и y ===\n",
        "target_col = 'AverageBill'\n",
        "X = df_check.drop(columns=[target_col])\n",
        "y = df_check[target_col]\n",
        "\n",
        "# === 2. Делим на train/test ===\n",
        "X_train, X_test, y_train, y_test = train_test_split(\n",
        "    X, y, test_size=0.2, random_state=999\n",
        ")\n",
        "\n",
        "# === 3. Масштабируем признаки по train ===\n",
        "scaler = StandardScaler()\n",
        "X_train_scaled = scaler.fit_transform(X_train)\n",
        "X_test_scaled = scaler.transform(X_test)\n",
        "\n",
        "# === 4. Обучение CatBoost ===\n",
        "model = CatBoostRegressor(\n",
        "    iterations=500,\n",
        "    learning_rate=0.1,\n",
        "    depth=6,\n",
        "    verbose=0,\n",
        "    random_state=999\n",
        ")\n",
        "model.fit(X_train, y_train)\n",
        "\n",
        "# === 5. Предсказания и оценка RMSE ===\n",
        "y_pred = model.predict(X_test)\n",
        "rmse = mean_squared_error(y_test, y_pred) ** 0.5\n",
        "print(f'RMSE: {rmse:.2f}')\n"
      ],
      "metadata": {
        "colab": {
          "base_uri": "https://localhost:8080/"
        },
        "id": "NyEabaL96YXo",
        "outputId": "20f4bdaa-1fcf-4213-9d44-8bbada362032"
      },
      "execution_count": 57,
      "outputs": [
        {
          "output_type": "stream",
          "name": "stdout",
          "text": [
            "RMSE: 120.35\n"
          ]
        }
      ]
    },
    {
      "cell_type": "markdown",
      "source": [
        "## Предсказание catboost на датасете с добавленными эмбеддингами из GNN"
      ],
      "metadata": {
        "id": "UE8onZWa7_dF"
      }
    },
    {
      "cell_type": "code",
      "source": [
        "# 1. Создаем DataFrame с эмбеддингами и правильными индексами из X_all\n",
        "emb_df = pd.DataFrame(embeddings, index=df_mega_base.index)\n",
        "emb_df.columns = [f'emb_{i}' for i in range(embeddings.shape[1])]\n",
        "\n",
        "# 2. Присоединяем эмбеддинги по индексу\n",
        "existing_cols = set(df_check.columns)\n",
        "\n",
        "# 3. Отбираем только те столбцы из emb_df, которых нет в df_check\n",
        "emb_to_add = emb_df[[col for col in emb_df.columns if col not in existing_cols]]\n",
        "\n",
        "# 4. Присоединяем по индексу\n",
        "df_check_emb = df_check.join(emb_to_add, how='left')"
      ],
      "metadata": {
        "id": "M6TC_QCnDSFx"
      },
      "execution_count": 58,
      "outputs": []
    },
    {
      "cell_type": "code",
      "source": [
        "from sklearn.model_selection import train_test_split\n",
        "from sklearn.preprocessing import StandardScaler\n",
        "from catboost import CatBoostRegressor\n",
        "from sklearn.metrics import mean_squared_error\n",
        "import numpy as np\n",
        "\n",
        "# === 1. Берем df_check и определяем X и y ===\n",
        "target_col = 'AverageBill'\n",
        "X = df_check_emb.drop(columns=[target_col])\n",
        "y = df_check_emb[target_col]\n",
        "\n",
        "# === 2. Делим на train/test ===\n",
        "X_train, X_test, y_train, y_test = train_test_split(\n",
        "    X, y, test_size=0.2, random_state=999\n",
        ")\n",
        "\n",
        "# === 3. Масштабируем признаки по train ===\n",
        "scaler = StandardScaler()\n",
        "X_train_scaled = scaler.fit_transform(X_train)\n",
        "X_test_scaled = scaler.transform(X_test)\n",
        "\n",
        "# === 4. Обучение CatBoost ===\n",
        "model = CatBoostRegressor(\n",
        "    iterations=500,\n",
        "    learning_rate=0.1,\n",
        "    depth=6,\n",
        "    verbose=0,\n",
        "    random_state=999\n",
        ")\n",
        "model.fit(X_train, y_train)\n",
        "\n",
        "# === 5. Предсказания и оценка RMSE ===\n",
        "y_pred = model.predict(X_test)\n",
        "rmse = mean_squared_error(y_test, y_pred) ** 0.5\n",
        "print(f'RMSE: {rmse:.2f}')\n"
      ],
      "metadata": {
        "colab": {
          "base_uri": "https://localhost:8080/"
        },
        "id": "RE5hWc9R4YKh",
        "outputId": "f2a22552-401d-446c-ba0b-d0a777d6180f"
      },
      "execution_count": 59,
      "outputs": [
        {
          "output_type": "stream",
          "name": "stdout",
          "text": [
            "RMSE: 132.22\n"
          ]
        }
      ]
    },
    {
      "cell_type": "markdown",
      "source": [
        "На датасете с фискальной информацией полученные GNN на квартирах эмбеддинги не дали улучшения метрики, а наоборот - ухудшили результаты. Видимо, они внесли шум, либо датасет квартир был недостаточно большим"
      ],
      "metadata": {
        "id": "u3whnLYs_4D5"
      }
    },
    {
      "cell_type": "code",
      "source": [],
      "metadata": {
        "id": "nMD7qVZvAW9g"
      },
      "execution_count": null,
      "outputs": []
    }
  ]
}